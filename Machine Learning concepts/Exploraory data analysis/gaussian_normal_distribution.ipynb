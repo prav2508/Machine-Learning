{
  "nbformat": 4,
  "nbformat_minor": 0,
  "metadata": {
    "colab": {
      "name": "gaussian/normal distribution.ipynb",
      "provenance": [],
      "collapsed_sections": []
    },
    "kernelspec": {
      "name": "python3",
      "display_name": "Python 3"
    }
  },
  "cells": [
    {
      "cell_type": "markdown",
      "metadata": {
        "id": "IYk4maqYPVU2"
      },
      "source": [
        "# **Exploratory data analysis**\n",
        "\n",
        "Useful examples of exploratory data analysis from a random data set."
      ]
    },
    {
      "cell_type": "markdown",
      "metadata": {
        "id": "e4dA1Dw5P9_D"
      },
      "source": [
        "**Useful Imports**"
      ]
    },
    {
      "cell_type": "code",
      "metadata": {
        "id": "CwkIvm6uJIoH"
      },
      "source": [
        "import numpy as np\n",
        "import numpy as np\n",
        "import matplotlib.pyplot as plt\n",
        "from scipy.stats import norm,stats"
      ],
      "execution_count": 1,
      "outputs": []
    },
    {
      "cell_type": "markdown",
      "metadata": {
        "id": "7ZKYiJuPP7mG"
      },
      "source": [
        "**Gaussian/ normal** **distribution** **bold text** **bold text**"
      ]
    },
    {
      "cell_type": "code",
      "metadata": {
        "id": "0ePgnedAJ0kX",
        "outputId": "722fc941-c9f3-4c17-8663-bb8bef730118",
        "colab": {
          "base_uri": "https://localhost:8080/",
          "height": 67
        }
      },
      "source": [
        "data = np.random.rand(100,1)\n",
        "mu = np.mean(data)\n",
        "variance = np.var(data)\n",
        "sigma = np.std(data)\n",
        "print(mu)\n",
        "print(variance)\n",
        "print(sigma)"
      ],
      "execution_count": 2,
      "outputs": [
        {
          "output_type": "stream",
          "text": [
            "0.5370498131615856\n",
            "0.07519679706849906\n",
            "0.27422034400915457\n"
          ],
          "name": "stdout"
        }
      ]
    },
    {
      "cell_type": "code",
      "metadata": {
        "id": "1BzLCVBcKpit",
        "outputId": "d4721964-1a9a-4a60-86a8-8291be430da3",
        "colab": {
          "base_uri": "https://localhost:8080/",
          "height": 265
        }
      },
      "source": [
        "x = np.linspace(mu - 5*sigma, mu + 5*sigma)\n",
        "plt.plot(x, norm.pdf(x, mu, sigma))\n",
        "plt.show()"
      ],
      "execution_count": 3,
      "outputs": [
        {
          "output_type": "display_data",
          "data": {
            "image/png": "[encoded data removed]",
            "text/plain": [
              "<Figure size 432x288 with 1 Axes>"
            ]
          },
          "metadata": {
            "tags": [],
            "needs_background": "light"
          }
        }
      ]
    },
    {
      "cell_type": "code",
      "metadata": {
        "id": "PZmtVlyVNlOD",
        "outputId": "eb4f97ff-c3df-4076-ce2a-99d6aef9120b",
        "colab": {
          "base_uri": "https://localhost:8080/",
          "height": 34
        }
      },
      "source": [
        "mu = np.mean(data)\n",
        "variance = np.var(data)\n",
        "sigma = np.std(data)\n",
        "print(mu,variance,sigma)"
      ],
      "execution_count": 4,
      "outputs": [
        {
          "output_type": "stream",
          "text": [
            "0.5370498131615856 0.07519679706849906 0.27422034400915457\n"
          ],
          "name": "stdout"
        }
      ]
    },
    {
      "cell_type": "markdown",
      "metadata": {
        "id": "BjJIR-DpRNYL"
      },
      "source": [
        "**Z-Score**"
      ]
    },
    {
      "cell_type": "code",
      "metadata": {
        "id": "06mFAbZRN52M",
        "outputId": "09b92ed3-82c1-430d-fcc5-5c3664be1c4e",
        "colab": {
          "base_uri": "https://localhost:8080/",
          "height": 1000
        }
      },
      "source": [
        "# To do manually without using any libs\n",
        "# z_score=[]\n",
        "# for x in data:\n",
        "#   z_score.append((x-mu)/sigma)\n",
        "# print(z_score)\n",
        "print(stats.zscore(data))"
      ],
      "execution_count": 5,
      "outputs": [
        {
          "output_type": "stream",
          "text": [
            "[[ 0.90585959]\n",
            " [ 0.1321688 ]\n",
            " [ 0.35034006]\n",
            " [-1.16484699]\n",
            " [ 0.06110694]\n",
            " [ 0.177881  ]\n",
            " [-0.14261762]\n",
            " [-1.47384256]\n",
            " [-0.91877909]\n",
            " [-1.49065563]\n",
            " [ 1.63905587]\n",
            " [ 0.02174943]\n",
            " [-1.03309351]\n",
            " [ 1.10033907]\n",
            " [-1.53386333]\n",
            " [ 0.66185252]\n",
            " [-0.63170068]\n",
            " [-0.29353184]\n",
            " [-0.56150368]\n",
            " [-0.119648  ]\n",
            " [-0.25562203]\n",
            " [ 0.09947952]\n",
            " [ 1.20479665]\n",
            " [ 1.11623462]\n",
            " [-1.13195984]\n",
            " [-0.5909323 ]\n",
            " [-1.59232542]\n",
            " [-0.54488729]\n",
            " [-0.23933139]\n",
            " [ 0.17500829]\n",
            " [-1.06078503]\n",
            " [-0.96499972]\n",
            " [ 0.43453375]\n",
            " [ 1.67157077]\n",
            " [ 0.34894218]\n",
            " [ 1.56335831]\n",
            " [ 0.95136036]\n",
            " [-0.85734923]\n",
            " [-1.46920987]\n",
            " [-0.60487926]\n",
            " [-1.50757659]\n",
            " [-0.6340719 ]\n",
            " [ 0.69159213]\n",
            " [ 1.23027461]\n",
            " [ 0.96427146]\n",
            " [-0.05920825]\n",
            " [ 0.9495591 ]\n",
            " [ 0.35922765]\n",
            " [-0.62087655]\n",
            " [ 0.29745571]\n",
            " [-0.12075089]\n",
            " [ 0.17556043]\n",
            " [ 0.66415148]\n",
            " [ 1.54913752]\n",
            " [ 0.26277857]\n",
            " [-1.58401364]\n",
            " [ 1.36610314]\n",
            " [-1.01300854]\n",
            " [ 0.42980998]\n",
            " [-0.17297538]\n",
            " [-1.02397084]\n",
            " [ 1.40650553]\n",
            " [ 1.19432191]\n",
            " [ 0.87271115]\n",
            " [ 0.56222591]\n",
            " [-1.48304526]\n",
            " [ 0.70978617]\n",
            " [ 0.53482542]\n",
            " [-0.68049717]\n",
            " [-1.65637078]\n",
            " [ 1.42507354]\n",
            " [-1.79458899]\n",
            " [ 0.7940477 ]\n",
            " [ 1.62291979]\n",
            " [ 0.18874683]\n",
            " [-1.28139657]\n",
            " [ 1.54680714]\n",
            " [ 0.84669938]\n",
            " [ 1.63476423]\n",
            " [-0.7779112 ]\n",
            " [-0.19948989]\n",
            " [-0.50445966]\n",
            " [ 0.12708619]\n",
            " [ 0.66846465]\n",
            " [-1.47603584]\n",
            " [-0.41203462]\n",
            " [ 1.1241661 ]\n",
            " [ 0.61250153]\n",
            " [ 0.5855892 ]\n",
            " [-1.52389358]\n",
            " [-0.31841999]\n",
            " [ 1.33305799]\n",
            " [ 1.60062912]\n",
            " [ 0.96664215]\n",
            " [-1.06709595]\n",
            " [-1.41821317]\n",
            " [-0.82350753]\n",
            " [-0.81640267]\n",
            " [ 1.17526145]\n",
            " [-1.44221282]]\n"
          ],
          "name": "stdout"
        }
      ]
    },
    {
      "cell_type": "markdown",
      "metadata": {
        "id": "LfPFdw11RSpe"
      },
      "source": [
        "**Standard normal distribution**\n",
        "\n",
        "where mean is 0 and standard deviation is 1"
      ]
    },
    {
      "cell_type": "code",
      "metadata": {
        "id": "wvJ72y2pQpae",
        "outputId": "1bb1ca48-3079-41f1-b6f2-e037687f6431",
        "colab": {
          "base_uri": "https://localhost:8080/",
          "height": 67
        }
      },
      "source": [
        "std_data = np.random.rand(100,1)\n",
        "std_mu = 0\n",
        "std_variance = 1\n",
        "std_sigma = 1\n",
        "print(mu)\n",
        "print(variance)\n",
        "print(sigma)"
      ],
      "execution_count": 6,
      "outputs": [
        {
          "output_type": "stream",
          "text": [
            "0.5370498131615856\n",
            "0.07519679706849906\n",
            "0.27422034400915457\n"
          ],
          "name": "stdout"
        }
      ]
    },
    {
      "cell_type": "code",
      "metadata": {
        "id": "kAf8g4LkQ_Mn",
        "outputId": "bff6ea2e-5760-4ef1-ed26-0671f4100f82",
        "colab": {
          "base_uri": "https://localhost:8080/",
          "height": 265
        }
      },
      "source": [
        "x = np.linspace(std_mu - 5*std_sigma, std_mu + 5*std_sigma)\n",
        "plt.plot(x, norm.pdf(x, std_mu, std_sigma))\n",
        "plt.show()"
      ],
      "execution_count": 7,
      "outputs": [
        {
          "output_type": "display_data",
          "data": {
            "image/png": "[encoded data removed]",
            "text/plain": [
              "<Figure size 432x288 with 1 Axes>"
            ]
          },
          "metadata": {
            "tags": [],
            "needs_background": "light"
          }
        }
      ]
    },
    {
      "cell_type": "code",
      "metadata": {
        "id": "0HQaCGfRRd4-"
      },
      "source": [
        ""
      ],
      "execution_count": 7,
      "outputs": []
    }
  ]
}